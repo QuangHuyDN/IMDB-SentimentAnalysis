{
  "cells": [
    {
      "cell_type": "code",
      "execution_count": 3,
      "metadata": {
        "id": "isuOVP7Ca72c"
      },
      "outputs": [],
      "source": [
        "import tensorflow_datasets as tfds\n",
        "import numpy as np\n",
        "from sklearn.feature_extraction.text import TfidfVectorizer\n",
        "from sklearn.svm import SVC\n",
        "from sklearn.pipeline import make_pipeline\n",
        "from sklearn.preprocessing import StandardScaler\n",
        "from sklearn.metrics import accuracy_score, classification_report, confusion_matrix, f1_score\n",
        "from sklearn.model_selection import train_test_split\n",
        "\n",
        "\n",
        "data = tfds.load('imdb_reviews')\n",
        "train_data, test_data = data['train'], data['test']"
      ]
    },
    {
      "cell_type": "code",
      "execution_count": 4,
      "metadata": {
        "id": "nv6JqDi6woKD"
      },
      "outputs": [],
      "source": [
        "def extract_text_and_labels(dataset):\n",
        "    texts = []\n",
        "    labels = []\n",
        "    for example in tfds.as_numpy(dataset):\n",
        "        texts.append(example['text'].decode('utf-8'))\n",
        "        labels.append(example['label'])\n",
        "    return texts, labels\n",
        "\n",
        "\n",
        "x_train_text, y_train = extract_text_and_labels(train_data)\n",
        "x_test_text, y_test = extract_text_and_labels(test_data)\n",
        "\n",
        "\n",
        "vectorizer = TfidfVectorizer(min_df = 5,\n",
        "                             max_df = 0.8,\n",
        "                             sublinear_tf = True,\n",
        "                             use_idf = True, max_features=5000)\n",
        "x_train_tfidf = vectorizer.fit_transform(x_train_text)\n",
        "x_test_tfidf = vectorizer.transform(x_test_text)\n",
        "\n",
        "\n",
        "x_train_tfidf, x_val_tfidf, y_train, y_val = train_test_split(x_train_tfidf, y_train, test_size=0.2, random_state=42)"
      ]
    },
    {
      "cell_type": "code",
      "execution_count": 5,
      "metadata": {
        "colab": {
          "base_uri": "https://localhost:8080/"
        },
        "id": "ibIxou3-wzHP",
        "outputId": "78ff1267-0a9e-423f-9cee-ebd77dfdd79e"
      },
      "outputs": [
        {
          "output_type": "stream",
          "name": "stdout",
          "text": [
            "Kernel: linear\n",
            "Validation Accuracy: 0.8158\n",
            "F1 Score: 0.8108\n",
            "Classification Report:\n",
            "              precision    recall  f1-score   support\n",
            "\n",
            "           0       0.82      0.82      0.82      2576\n",
            "           1       0.81      0.81      0.81      2424\n",
            "\n",
            "    accuracy                           0.82      5000\n",
            "   macro avg       0.82      0.82      0.82      5000\n",
            "weighted avg       0.82      0.82      0.82      5000\n",
            "\n",
            "Confusion Matrix:\n",
            "[[2106  470]\n",
            " [ 451 1973]]\n",
            "\n",
            "\n",
            "Kernel: rbf\n",
            "Validation Accuracy: 0.8846\n",
            "F1 Score: 0.8830\n",
            "Classification Report:\n",
            "              precision    recall  f1-score   support\n",
            "\n",
            "           0       0.90      0.87      0.89      2576\n",
            "           1       0.87      0.90      0.88      2424\n",
            "\n",
            "    accuracy                           0.88      5000\n",
            "   macro avg       0.88      0.88      0.88      5000\n",
            "weighted avg       0.89      0.88      0.88      5000\n",
            "\n",
            "Confusion Matrix:\n",
            "[[2246  330]\n",
            " [ 247 2177]]\n",
            "\n",
            "\n",
            "Kernel: poly\n",
            "Validation Accuracy: 0.7358\n",
            "F1 Score: 0.6444\n",
            "Classification Report:\n",
            "              precision    recall  f1-score   support\n",
            "\n",
            "           0       0.67      0.96      0.79      2576\n",
            "           1       0.93      0.49      0.64      2424\n",
            "\n",
            "    accuracy                           0.74      5000\n",
            "   macro avg       0.80      0.73      0.72      5000\n",
            "weighted avg       0.79      0.74      0.72      5000\n",
            "\n",
            "Confusion Matrix:\n",
            "[[2482   94]\n",
            " [1227 1197]]\n",
            "\n",
            "\n"
          ]
        }
      ],
      "source": [
        "def evaluate_kernel(kernel):\n",
        "    svm_model = make_pipeline(StandardScaler(with_mean=False), SVC(kernel=kernel))\n",
        "    svm_model.fit(x_train_tfidf, y_train)\n",
        "\n",
        "    y_val_pred = svm_model.predict(x_val_tfidf)\n",
        "    accuracy = accuracy_score(y_val, y_val_pred)\n",
        "    f1 = f1_score(y_val, y_val_pred)\n",
        "\n",
        "    print(f\"Kernel: {kernel}\")\n",
        "    print(f\"Validation Accuracy: {accuracy:.4f}\")\n",
        "    print(f\"F1 Score: {f1:.4f}\")\n",
        "    print(\"Classification Report:\")\n",
        "    print(classification_report(y_val, y_val_pred))\n",
        "    print(\"Confusion Matrix:\")\n",
        "    print(confusion_matrix(y_val, y_val_pred))\n",
        "    print(\"\\n\")\n",
        "\n",
        "\n",
        "kernels = ['linear', 'rbf', 'poly']\n",
        "for kernel in kernels:\n",
        "    evaluate_kernel(kernel)"
      ]
    }
  ],
  "metadata": {
    "accelerator": "GPU",
    "colab": {
      "gpuType": "T4",
      "provenance": []
    },
    "kernelspec": {
      "display_name": "Python 3",
      "name": "python3"
    },
    "language_info": {
      "name": "python"
    }
  },
  "nbformat": 4,
  "nbformat_minor": 0
}